{
 "cells": [
  {
   "cell_type": "markdown",
   "metadata": {},
   "source": [
    "# Modeling Analysis of the National Financial Capability Study Survey Report"
   ]
  },
  {
   "cell_type": "code",
   "execution_count": 6,
   "metadata": {},
   "outputs": [],
   "source": [
    "import pandas as pd\n",
    "import numpy as np\n",
    "import matplotlib.pyplot as plt\n",
    "import seaborn as sns\n",
    "%matplotlib inline\n",
    "\n",
    "from sklearn.linear_model import LinearRegression\n",
    "\n",
    "from sklearn.model_selection import train_test_split, GridSearchCV\n",
    "from sklearn.linear_model import LogisticRegression, LogisticRegressionCV, RidgeCV, LassoCV\n",
    "from sklearn.feature_selection import SelectKBest\n",
    "from sklearn.decomposition import PCA\n",
    "from sklearn import metrics\n"
   ]
  },
  {
   "cell_type": "code",
   "execution_count": 26,
   "metadata": {},
   "outputs": [],
   "source": [
    "finance = pd.read_csv(r\"C:\\Users\\578735\\Desktop\\5KCapstone\\Medical_debt\\NFCS.csv\",  low_memory=False)"
   ]
  },
  {
   "cell_type": "code",
   "execution_count": 27,
   "metadata": {},
   "outputs": [],
   "source": [
    "# Drop certain columns not useful for this analysis\n",
    "finance.drop(columns=['NFCSID', 'C2_2012', 'C3_2012', 'C2_2009', 'C3_2009', 'C11_2012', 'C11_2009'], axis = 1, inplace= True)"
   ]
  },
  {
   "cell_type": "code",
   "execution_count": 28,
   "metadata": {},
   "outputs": [],
   "source": [
    "finance = finance.rename(columns= { '2000_emergency_money' : 'emergency_money'})"
   ]
  },
  {
   "cell_type": "code",
   "execution_count": 29,
   "metadata": {},
   "outputs": [],
   "source": [
    "# Drop NaN values\n",
    "finance.dropna(axis=0, inplace=True)"
   ]
  },
  {
   "cell_type": "code",
   "execution_count": 30,
   "metadata": {},
   "outputs": [
    {
     "data": {
      "text/plain": [
       "(81219, 61)"
      ]
     },
     "execution_count": 30,
     "metadata": {},
     "output_type": "execute_result"
    }
   ],
   "source": [
    "finance.shape"
   ]
  },
  {
   "cell_type": "code",
   "execution_count": 32,
   "metadata": {},
   "outputs": [
    {
     "data": {
      "text/plain": [
       "year                                    0\n",
       "state                                   0\n",
       "division_usa                            0\n",
       "region_usa                              0\n",
       "gender                                  0\n",
       "age_group                               0\n",
       "gender_age                              0\n",
       "ethnicity                               0\n",
       "marital_status                          0\n",
       "living_situation                        0\n",
       "child_dependents                        0\n",
       "annual_income                           0\n",
       "army_status_indv                        0\n",
       "army_status_spouse                      0\n",
       "military_status                         0\n",
       "indv_employment_status                  0\n",
       "spouse_employment_status                0\n",
       "retirement_status                       0\n",
       "knowledgeable_in_household              0\n",
       "satisfaction_with_finance               0\n",
       "finance_risk                            0\n",
       "spending_vs_income                      0\n",
       "monthly_burden                          0\n",
       "emergency_funds                         0\n",
       "retirement_planning                     0\n",
       "drop_in_income                          0\n",
       "emergency_money                         0\n",
       "savings_account                         0\n",
       "overdraw_account                        0\n",
       "retirement_plans_2012                   0\n",
       "other_retirement_plans_2012             0\n",
       "contribute_regularly_retirement_2012    0\n",
       "loan_from_retirement_2012               0\n",
       "retirement_plans_2009                   0\n",
       "other_retirement_plans_2009             0\n",
       "contribute_regularly_retirement_2009    0\n",
       "loan_from_retirement_2009               0\n",
       "investments                             0\n",
       "withdraw_from_retirement                0\n",
       "own_home                                0\n",
       "dtype: int64"
      ]
     },
     "execution_count": 32,
     "metadata": {},
     "output_type": "execute_result"
    }
   ],
   "source": [
    "# Check for nulls in dataframe\n",
    "finance.isnull().sum()[0:40]"
   ]
  },
  {
   "cell_type": "code",
   "execution_count": 124,
   "metadata": {},
   "outputs": [
    {
     "data": {
      "text/plain": [
       "too_much_debt                           1.000000\n",
       "emergency_money                         0.578930\n",
       "other_retirement_plans_2012             0.554499\n",
       "army_status_indv                        0.534457\n",
       "withdraw_from_retirement                0.527604\n",
       "retirement_plans_2012                   0.489497\n",
       "year                                    0.476660\n",
       "payday_loan                             0.472873\n",
       "finance_education                       0.449170\n",
       "unpaid_pastdue_medical_bills            0.418031\n",
       "army_status_spouse                      0.270683\n",
       "appreciation_value                      0.249608\n",
       "emergency_funds                         0.175396\n",
       "loan_from_retirement_2012               0.139382\n",
       "employer_finance_educ                   0.138176\n",
       "hs_finance_educ                         0.128817\n",
       "contribute_regularly_retirement_2012    0.124355\n",
       "other_retirement_plans_2009             0.123448\n",
       "spending_vs_income                      0.108263\n",
       "retirement_plans_2009                   0.095544\n",
       "investments                             0.085967\n",
       "savings_account                         0.085953\n",
       "pay_full_bill_credit_card               0.085453\n",
       "own_home                                0.084299\n",
       "military_status                         0.082093\n",
       "ethnicity                               0.053335\n",
       "credit_cards                            0.050693\n",
       "military_finance_educ                   0.041013\n",
       "gender                                  0.040157\n",
       "finance_risk                            0.032763\n",
       "                                          ...   \n",
       "math_question1                          0.031609\n",
       "marital_status                          0.009396\n",
       "division_usa                            0.006386\n",
       "region_usa                              0.006001\n",
       "living_situation                       -0.001423\n",
       "gender_age                             -0.002466\n",
       "state                                  -0.007121\n",
       "math_question4                         -0.015281\n",
       "contribute_regularly_retirement_2009   -0.021262\n",
       "good_at_math                           -0.022104\n",
       "knowledgeable_in_household             -0.022122\n",
       "finance_knowledge                      -0.025960\n",
       "math_question3                         -0.033827\n",
       "drop_in_income                         -0.036355\n",
       "loan_from_retirement_2009              -0.043795\n",
       "budgeting                              -0.055251\n",
       "spouse_employment_status               -0.064514\n",
       "math_question2                         -0.067439\n",
       "indv_employment_status                 -0.068389\n",
       "child_dependents                       -0.071978\n",
       "annual_income                          -0.075049\n",
       "retirement_planning                    -0.076598\n",
       "auto_loan                              -0.079815\n",
       "age_group                              -0.079824\n",
       "overdraw_account                       -0.093554\n",
       "retirement_status                      -0.099490\n",
       "stock_question                         -0.101085\n",
       "mortgage_status                        -0.123900\n",
       "satisfaction_with_finance              -0.136429\n",
       "monthly_burden                         -0.172591\n",
       "Name: too_much_debt, Length: 61, dtype: float64"
      ]
     },
     "execution_count": 124,
     "metadata": {},
     "output_type": "execute_result"
    }
   ],
   "source": [
    "#sort correlation values by highest in relation to \"too much debt\"\n",
    "finance.corr()['too_much_debt'].sort_values(ascending=False)[0:62]"
   ]
  },
  {
   "cell_type": "code",
   "execution_count": 125,
   "metadata": {},
   "outputs": [
    {
     "data": {
      "text/plain": [
       "too_much_debt                           1.000000\n",
       "emergency_money                         0.578930\n",
       "other_retirement_plans_2012             0.554499\n",
       "army_status_indv                        0.534457\n",
       "withdraw_from_retirement                0.527604\n",
       "retirement_plans_2012                   0.489497\n",
       "payday_loan                             0.472873\n",
       "finance_education                       0.449170\n",
       "unpaid_pastdue_medical_bills            0.418031\n",
       "army_status_spouse                      0.270683\n",
       "appreciation_value                      0.249608\n",
       "emergency_funds                         0.175396\n",
       "monthly_burden                          0.172591\n",
       "loan_from_retirement_2012               0.139382\n",
       "employer_finance_educ                   0.138176\n",
       "satisfaction_with_finance               0.136429\n",
       "hs_finance_educ                         0.128817\n",
       "contribute_regularly_retirement_2012    0.124355\n",
       "mortgage_status                         0.123900\n",
       "other_retirement_plans_2009             0.123448\n",
       "Name: too_much_debt, dtype: float64"
      ]
     },
     "execution_count": 125,
     "metadata": {},
     "output_type": "execute_result"
    }
   ],
   "source": [
    "finance.corr()['too_much_debt'].abs().drop('year').sort_values(ascending = False)[:20]"
   ]
  },
  {
   "cell_type": "code",
   "execution_count": 35,
   "metadata": {},
   "outputs": [],
   "source": [
    "# list top 5 correlation values \n",
    "top5 = list(finance.corr()['too_much_debt'].sort_values()[:6].index)"
   ]
  },
  {
   "cell_type": "code",
   "execution_count": 36,
   "metadata": {},
   "outputs": [],
   "source": [
    "# list bottom 5 correlation values\n",
    "bot5 = list(finance.corr()['too_much_debt'].sort_values()[55:].index)"
   ]
  },
  {
   "cell_type": "code",
   "execution_count": 37,
   "metadata": {},
   "outputs": [
    {
     "data": {
      "text/plain": [
       "['monthly_burden',\n",
       " 'satisfaction_with_finance',\n",
       " 'mortgage_status',\n",
       " 'retirement_status',\n",
       " 'stock_question',\n",
       " 'overdraw_account']"
      ]
     },
     "execution_count": 37,
     "metadata": {},
     "output_type": "execute_result"
    }
   ],
   "source": [
    "top5"
   ]
  },
  {
   "cell_type": "code",
   "execution_count": 38,
   "metadata": {},
   "outputs": [
    {
     "data": {
      "text/plain": [
       "['retirement_plans_2012',\n",
       " 'withdraw_from_retirement',\n",
       " 'army_status_indv',\n",
       " 'other_retirement_plans_2012',\n",
       " 'emergency_money',\n",
       " 'too_much_debt']"
      ]
     },
     "execution_count": 38,
     "metadata": {},
     "output_type": "execute_result"
    }
   ],
   "source": [
    "bot5"
   ]
  },
  {
   "cell_type": "code",
   "execution_count": 133,
   "metadata": {},
   "outputs": [],
   "source": [
    "top= ['monthly_burden','pay_full_bill_credit_card', 'army_status_indv',\n",
    "'satisfaction_with_finance','unpaid_pastdue_medical_bills',  'budgeting', \n",
    "'mortgage_status', 'emergency_funds', \n",
    "'retirement_status',\n",
    "'overdraw_account', \n",
    "'emergency_money', \n",
    "'too_much_debt', 'withdraw_from_retirement', \n",
    "'finance_education', 'good_at_math']"
   ]
  },
  {
   "cell_type": "code",
   "execution_count": 15,
   "metadata": {},
   "outputs": [],
   "source": [
    "top2=['emergency_money', 'other_retirement_plans_2012', 'army_status_indv',  'withdraw_from_retirement', 'retirement_plans_2012',  'payday_loan',                         \n",
    "'finance_education','unpaid_pastdue_medical_bills', 'too_much_debt']"
   ]
  },
  {
   "cell_type": "code",
   "execution_count": 16,
   "metadata": {},
   "outputs": [],
   "source": [
    "top3=['monthly_burden', 'satisfaction_with_finance', 'budgeting',  'mortgage_status', 'emergency_funds', 'pay_full_bill_credit_card',  'unpaid_pastdue_medical_bills', 'too_much_debt']"
   ]
  },
  {
   "cell_type": "code",
   "execution_count": 17,
   "metadata": {},
   "outputs": [],
   "source": [
    "top4=['monthly_burden', 'satisfaction_with_finance', 'mortgage_status',  'retirement_status',  'stock_question', 'overdraw_account', 'retirement_plans_2012',\n",
    " 'withdraw_from_retirement', 'army_status_indv', 'other_retirement_plans_2012', 'emergency_money', 'too_much_debt']"
   ]
  },
  {
   "cell_type": "code",
   "execution_count": null,
   "metadata": {},
   "outputs": [],
   "source": []
  },
  {
   "cell_type": "code",
   "execution_count": 18,
   "metadata": {
    "collapsed": true
   },
   "outputs": [
    {
     "data": {
      "text/plain": [
       "year                                    0\n",
       "state                                   0\n",
       "division_usa                            0\n",
       "region_usa                              0\n",
       "gender                                  0\n",
       "age_group                               0\n",
       "gender_age                              0\n",
       "ethnicity                               0\n",
       "marital_status                          0\n",
       "living_situation                        0\n",
       "child_dependents                        0\n",
       "annual_income                           0\n",
       "army_status_indv                        0\n",
       "army_status_spouse                      0\n",
       "military_status                         0\n",
       "indv_employment_status                  0\n",
       "spouse_employment_status                0\n",
       "retirement_status                       0\n",
       "knowledgeable_in_household              0\n",
       "satisfaction_with_finance               0\n",
       "finance_risk                            0\n",
       "spending_vs_income                      0\n",
       "monthly_burden                          0\n",
       "emergency_funds                         0\n",
       "retirement_planning                     0\n",
       "drop_in_income                          0\n",
       "emergency_money                         0\n",
       "savings_account                         0\n",
       "overdraw_account                        0\n",
       "retirement_plans_2012                   0\n",
       "                                       ..\n",
       "contribute_regularly_retirement_2012    0\n",
       "loan_from_retirement_2012               0\n",
       "retirement_plans_2009                   0\n",
       "other_retirement_plans_2009             0\n",
       "contribute_regularly_retirement_2009    0\n",
       "loan_from_retirement_2009               0\n",
       "investments                             0\n",
       "withdraw_from_retirement                0\n",
       "own_home                                0\n",
       "mortgage_status                         0\n",
       "appreciation_value                      0\n",
       "credit_cards                            0\n",
       "pay_full_bill_credit_card               0\n",
       "auto_loan                               0\n",
       "unpaid_pastdue_medical_bills            0\n",
       "payday_loan                             0\n",
       "too_much_debt                           0\n",
       "health_insurance_coverage               0\n",
       "budgeting                               0\n",
       "good_at_math                            0\n",
       "finance_knowledge                       0\n",
       "finance_education                       0\n",
       "hs_finance_educ                         0\n",
       "employer_finance_educ                   0\n",
       "military_finance_educ                   0\n",
       "math_question1                          0\n",
       "math_question2                          0\n",
       "math_question3                          0\n",
       "math_question4                          0\n",
       "stock_question                          0\n",
       "Length: 61, dtype: int64"
      ]
     },
     "execution_count": 18,
     "metadata": {},
     "output_type": "execute_result"
    }
   ],
   "source": [
    "finance.isnull().sum()"
   ]
  },
  {
   "cell_type": "code",
   "execution_count": 134,
   "metadata": {},
   "outputs": [],
   "source": [
    "df = finance.loc[:,top]"
   ]
  },
  {
   "cell_type": "code",
   "execution_count": 135,
   "metadata": {
    "collapsed": true
   },
   "outputs": [
    {
     "data": {
      "text/plain": [
       "monthly_burden                  0\n",
       "pay_full_bill_credit_card       0\n",
       "army_status_indv                0\n",
       "satisfaction_with_finance       0\n",
       "unpaid_pastdue_medical_bills    0\n",
       "budgeting                       0\n",
       "mortgage_status                 0\n",
       "emergency_funds                 0\n",
       "retirement_status               0\n",
       "overdraw_account                0\n",
       "emergency_money                 0\n",
       "too_much_debt                   0\n",
       "withdraw_from_retirement        0\n",
       "finance_education               0\n",
       "good_at_math                    0\n",
       "dtype: int64"
      ]
     },
     "execution_count": 135,
     "metadata": {},
     "output_type": "execute_result"
    }
   ],
   "source": [
    "df.isnull().sum()"
   ]
  },
  {
   "cell_type": "code",
   "execution_count": 43,
   "metadata": {},
   "outputs": [],
   "source": [
    "finance.too_much_debt.dropna(axis=0, inplace=True)"
   ]
  },
  {
   "cell_type": "code",
   "execution_count": 44,
   "metadata": {},
   "outputs": [],
   "source": [
    "# changing finance type from float to integer\n",
    "finance[\"too_much_debt\"] = finance[\"too_much_debt\"].astype(int)"
   ]
  },
  {
   "cell_type": "code",
   "execution_count": 45,
   "metadata": {
    "collapsed": true
   },
   "outputs": [
    {
     "name": "stderr",
     "output_type": "stream",
     "text": [
      "C:\\Users\\578735\\AppData\\Local\\Continuum\\anaconda3\\New_folder\\lib\\site-packages\\ipykernel_launcher.py:2: SettingWithCopyWarning: \n",
      "A value is trying to be set on a copy of a slice from a DataFrame\n",
      "\n",
      "See the caveats in the documentation: http://pandas.pydata.org/pandas-docs/stable/indexing.html#indexing-view-versus-copy\n",
      "  \n"
     ]
    },
    {
     "data": {
      "text/plain": [
       "0        4\n",
       "1        0\n",
       "2        0\n",
       "3        4\n",
       "4        0\n",
       "5        0\n",
       "6        5\n",
       "7        5\n",
       "8        4\n",
       "9        0\n",
       "10       6\n",
       "11       6\n",
       "12       0\n",
       "13       0\n",
       "14       4\n",
       "15       0\n",
       "16       0\n",
       "17       0\n",
       "18       0\n",
       "19       0\n",
       "20       0\n",
       "21       7\n",
       "22       0\n",
       "23       0\n",
       "24       0\n",
       "25       4\n",
       "26       0\n",
       "27       6\n",
       "28       0\n",
       "29       0\n",
       "        ..\n",
       "81189    0\n",
       "81190    0\n",
       "81191    0\n",
       "81192    0\n",
       "81193    0\n",
       "81194    0\n",
       "81195    0\n",
       "81196    0\n",
       "81197    0\n",
       "81198    0\n",
       "81199    0\n",
       "81200    0\n",
       "81201    0\n",
       "81202    0\n",
       "81203    0\n",
       "81204    0\n",
       "81205    0\n",
       "81206    0\n",
       "81207    0\n",
       "81208    0\n",
       "81209    0\n",
       "81210    0\n",
       "81211    0\n",
       "81212    0\n",
       "81213    0\n",
       "81214    0\n",
       "81215    0\n",
       "81216    0\n",
       "81217    0\n",
       "81218    0\n",
       "Name: too_much_debt, Length: 81219, dtype: int32"
      ]
     },
     "execution_count": 45,
     "metadata": {},
     "output_type": "execute_result"
    }
   ],
   "source": [
    "# Splitted response variable to binary categories for easier handling in logistic regression\n",
    "finance.too_much_debt[finance[finance.too_much_debt <=3].index]=0\n",
    "finance.too_much_debt"
   ]
  },
  {
   "cell_type": "code",
   "execution_count": 46,
   "metadata": {
    "collapsed": true
   },
   "outputs": [
    {
     "name": "stderr",
     "output_type": "stream",
     "text": [
      "C:\\Users\\578735\\AppData\\Local\\Continuum\\anaconda3\\New_folder\\lib\\site-packages\\ipykernel_launcher.py:1: SettingWithCopyWarning: \n",
      "A value is trying to be set on a copy of a slice from a DataFrame\n",
      "\n",
      "See the caveats in the documentation: http://pandas.pydata.org/pandas-docs/stable/indexing.html#indexing-view-versus-copy\n",
      "  \"\"\"Entry point for launching an IPython kernel.\n"
     ]
    },
    {
     "data": {
      "text/plain": [
       "0        1\n",
       "1        0\n",
       "2        0\n",
       "3        1\n",
       "4        0\n",
       "5        0\n",
       "6        1\n",
       "7        1\n",
       "8        1\n",
       "9        0\n",
       "10       1\n",
       "11       1\n",
       "12       0\n",
       "13       0\n",
       "14       1\n",
       "15       0\n",
       "16       0\n",
       "17       0\n",
       "18       0\n",
       "19       0\n",
       "20       0\n",
       "21       1\n",
       "22       0\n",
       "23       0\n",
       "24       0\n",
       "25       1\n",
       "26       0\n",
       "27       1\n",
       "28       0\n",
       "29       0\n",
       "        ..\n",
       "81189    0\n",
       "81190    0\n",
       "81191    0\n",
       "81192    0\n",
       "81193    0\n",
       "81194    0\n",
       "81195    0\n",
       "81196    0\n",
       "81197    0\n",
       "81198    0\n",
       "81199    0\n",
       "81200    0\n",
       "81201    0\n",
       "81202    0\n",
       "81203    0\n",
       "81204    0\n",
       "81205    0\n",
       "81206    0\n",
       "81207    0\n",
       "81208    0\n",
       "81209    0\n",
       "81210    0\n",
       "81211    0\n",
       "81212    0\n",
       "81213    0\n",
       "81214    0\n",
       "81215    0\n",
       "81216    0\n",
       "81217    0\n",
       "81218    0\n",
       "Name: too_much_debt, Length: 81219, dtype: int32"
      ]
     },
     "execution_count": 46,
     "metadata": {},
     "output_type": "execute_result"
    }
   ],
   "source": [
    "finance.too_much_debt[finance[finance.too_much_debt >=4].index]=1\n",
    "finance.too_much_debt"
   ]
  },
  {
   "cell_type": "code",
   "execution_count": 136,
   "metadata": {
    "collapsed": true
   },
   "outputs": [
    {
     "data": {
      "text/plain": [
       "0        1\n",
       "1        0\n",
       "2        0\n",
       "3        1\n",
       "4        0\n",
       "5        0\n",
       "6        1\n",
       "7        1\n",
       "8        1\n",
       "9        0\n",
       "10       1\n",
       "11       1\n",
       "12       0\n",
       "13       0\n",
       "14       1\n",
       "15       0\n",
       "16       0\n",
       "17       0\n",
       "18       0\n",
       "19       0\n",
       "20       0\n",
       "21       1\n",
       "22       0\n",
       "23       0\n",
       "24       0\n",
       "25       1\n",
       "26       0\n",
       "27       1\n",
       "28       0\n",
       "29       0\n",
       "        ..\n",
       "81189    0\n",
       "81190    0\n",
       "81191    0\n",
       "81192    0\n",
       "81193    0\n",
       "81194    0\n",
       "81195    0\n",
       "81196    0\n",
       "81197    0\n",
       "81198    0\n",
       "81199    0\n",
       "81200    0\n",
       "81201    0\n",
       "81202    0\n",
       "81203    0\n",
       "81204    0\n",
       "81205    0\n",
       "81206    0\n",
       "81207    0\n",
       "81208    0\n",
       "81209    0\n",
       "81210    0\n",
       "81211    0\n",
       "81212    0\n",
       "81213    0\n",
       "81214    0\n",
       "81215    0\n",
       "81216    0\n",
       "81217    0\n",
       "81218    0\n",
       "Name: too_much_debt, Length: 81219, dtype: int32"
      ]
     },
     "execution_count": 136,
     "metadata": {},
     "output_type": "execute_result"
    }
   ],
   "source": [
    "finance.too_much_debt"
   ]
  },
  {
   "cell_type": "code",
   "execution_count": 127,
   "metadata": {
    "collapsed": true
   },
   "outputs": [
    {
     "data": {
      "text/plain": [
       "too_much_debt                           1.000000\n",
       "emergency_money                         0.578930\n",
       "other_retirement_plans_2012             0.554499\n",
       "army_status_indv                        0.534457\n",
       "withdraw_from_retirement                0.527604\n",
       "retirement_plans_2012                   0.489497\n",
       "year                                    0.476660\n",
       "payday_loan                             0.472873\n",
       "finance_education                       0.449170\n",
       "unpaid_pastdue_medical_bills            0.418031\n",
       "army_status_spouse                      0.270683\n",
       "appreciation_value                      0.249608\n",
       "emergency_funds                         0.175396\n",
       "loan_from_retirement_2012               0.139382\n",
       "employer_finance_educ                   0.138176\n",
       "hs_finance_educ                         0.128817\n",
       "contribute_regularly_retirement_2012    0.124355\n",
       "other_retirement_plans_2009             0.123448\n",
       "spending_vs_income                      0.108263\n",
       "retirement_plans_2009                   0.095544\n",
       "investments                             0.085967\n",
       "savings_account                         0.085953\n",
       "pay_full_bill_credit_card               0.085453\n",
       "own_home                                0.084299\n",
       "military_status                         0.082093\n",
       "ethnicity                               0.053335\n",
       "credit_cards                            0.050693\n",
       "military_finance_educ                   0.041013\n",
       "gender                                  0.040157\n",
       "finance_risk                            0.032763\n",
       "                                          ...   \n",
       "math_question1                          0.031609\n",
       "marital_status                          0.009396\n",
       "division_usa                            0.006386\n",
       "region_usa                              0.006001\n",
       "living_situation                       -0.001423\n",
       "gender_age                             -0.002466\n",
       "state                                  -0.007121\n",
       "math_question4                         -0.015281\n",
       "contribute_regularly_retirement_2009   -0.021262\n",
       "good_at_math                           -0.022104\n",
       "knowledgeable_in_household             -0.022122\n",
       "finance_knowledge                      -0.025960\n",
       "math_question3                         -0.033827\n",
       "drop_in_income                         -0.036355\n",
       "loan_from_retirement_2009              -0.043795\n",
       "budgeting                              -0.055251\n",
       "spouse_employment_status               -0.064514\n",
       "math_question2                         -0.067439\n",
       "indv_employment_status                 -0.068389\n",
       "child_dependents                       -0.071978\n",
       "annual_income                          -0.075049\n",
       "retirement_planning                    -0.076598\n",
       "auto_loan                              -0.079815\n",
       "age_group                              -0.079824\n",
       "overdraw_account                       -0.093554\n",
       "retirement_status                      -0.099490\n",
       "stock_question                         -0.101085\n",
       "mortgage_status                        -0.123900\n",
       "satisfaction_with_finance              -0.136429\n",
       "monthly_burden                         -0.172591\n",
       "Name: too_much_debt, Length: 61, dtype: float64"
      ]
     },
     "execution_count": 127,
     "metadata": {},
     "output_type": "execute_result"
    }
   ],
   "source": [
    "#sort correlation values by highest in relation to \"too much debt\"\n",
    "finance.corr()['too_much_debt'].sort_values(ascending=False)[0:62]"
   ]
  },
  {
   "cell_type": "code",
   "execution_count": 137,
   "metadata": {},
   "outputs": [
    {
     "data": {
      "text/plain": [
       "(0.8085005089142069, 0.805269638020192)"
      ]
     },
     "execution_count": 137,
     "metadata": {},
     "output_type": "execute_result"
    }
   ],
   "source": [
    "# Define X and y for Logistic Regression modeling\n",
    "X = df.loc[:,top].drop('too_much_debt', axis = 1)\n",
    "y = finance.too_much_debt\n",
    "\n",
    "X_train, X_test, y_train, y_test = train_test_split(X, y, test_size = 0.25, stratify = y)\n",
    "# Note that I use \"stratify = y\" to deal with out class imbalance.  With stratify, score = 0.8217 and without stratify, score = 0.8212\n",
    "\n",
    "logreg = LogisticRegression(penalty='l2')\n",
    "\n",
    "y_pred = logreg.fit(X_train, y_train)\n",
    "\n",
    "# make class predictions for the testing set\n",
    "y_pred = logreg.predict(X_test)\n",
    "\n",
    "logreg.score(X_train, y_train), logreg.score(X_test, y_test)"
   ]
  },
  {
   "cell_type": "code",
   "execution_count": 138,
   "metadata": {},
   "outputs": [
    {
     "name": "stdout",
     "output_type": "stream",
     "text": [
      "0.805269638020192\n",
      "0.7910288044375834\n"
     ]
    }
   ],
   "source": [
    "print(metrics.accuracy_score(y_test, y_pred))\n",
    "print(metrics.roc_auc_score(y_test, y_pred))"
   ]
  },
  {
   "cell_type": "code",
   "execution_count": 139,
   "metadata": {},
   "outputs": [
    {
     "data": {
      "text/plain": [
       "[('monthly_burden',\n",
       "  array([-0.48867185,  0.71902603,  0.74647254, -0.05454228,  0.00426377,\n",
       "         -0.05853946, -0.16408734,  0.24179765, -0.29241596, -0.30793517,\n",
       "          0.42781002,  0.56773837,  0.13720707,  0.07255696]))]"
      ]
     },
     "execution_count": 139,
     "metadata": {},
     "output_type": "execute_result"
    }
   ],
   "source": [
    "# Coefficients for logistic regression\n",
    "list(zip(X, logreg.coef_))"
   ]
  },
  {
   "cell_type": "code",
   "execution_count": 140,
   "metadata": {},
   "outputs": [
    {
     "name": "stdout",
     "output_type": "stream",
     "text": [
      "[[10789  1950]\n",
      " [ 2004  5562]]\n"
     ]
    }
   ],
   "source": [
    "from sklearn.metrics import confusion_matrix\n",
    "print(confusion_matrix(y_test, y_pred))"
   ]
  },
  {
   "cell_type": "code",
   "execution_count": 141,
   "metadata": {},
   "outputs": [
    {
     "name": "stdout",
     "output_type": "stream",
     "text": [
      "             precision    recall  f1-score   support\n",
      "\n",
      "          0       0.84      0.85      0.85     12739\n",
      "          1       0.74      0.74      0.74      7566\n",
      "\n",
      "avg / total       0.80      0.81      0.81     20305\n",
      "\n"
     ]
    }
   ],
   "source": [
    "from sklearn.metrics import classification_report\n",
    "print(classification_report(y_test, y_pred))"
   ]
  },
  {
   "cell_type": "code",
   "execution_count": 29,
   "metadata": {},
   "outputs": [
    {
     "data": {
      "text/plain": [
       "array([[0.04930631, 0.95069369],\n",
       "       [0.43178799, 0.56821201],\n",
       "       [0.14368106, 0.85631894],\n",
       "       [0.93410851, 0.06589149],\n",
       "       [0.93393694, 0.06606306],\n",
       "       [0.95023068, 0.04976932],\n",
       "       [0.98355268, 0.01644732],\n",
       "       [0.76472797, 0.23527203],\n",
       "       [0.8776834 , 0.1223166 ],\n",
       "       [0.73885661, 0.26114339]])"
      ]
     },
     "execution_count": 29,
     "metadata": {},
     "output_type": "execute_result"
    }
   ],
   "source": [
    "# print the first 10 predicted probabilities of class membership\n",
    "logreg.predict_proba(X_test)[0:10, :]"
   ]
  },
  {
   "cell_type": "code",
   "execution_count": 30,
   "metadata": {
    "scrolled": true
   },
   "outputs": [
    {
     "data": {
      "text/plain": [
       "array([0.95069369, 0.56821201, 0.85631894, 0.06589149, 0.06606306,\n",
       "       0.04976932, 0.01644732, 0.23527203, 0.1223166 , 0.26114339])"
      ]
     },
     "execution_count": 30,
     "metadata": {},
     "output_type": "execute_result"
    }
   ],
   "source": [
    "# print the first 10 predicted probabilities for class 1\n",
    "logreg.predict_proba(X_test)[0:10, 1]"
   ]
  },
  {
   "cell_type": "code",
   "execution_count": 31,
   "metadata": {},
   "outputs": [],
   "source": [
    "# store the predicted probabilities for class 1\n",
    "y_pred_prob = logreg.predict_proba(X_test)[:, 1]"
   ]
  },
  {
   "cell_type": "code",
   "execution_count": 32,
   "metadata": {},
   "outputs": [],
   "source": [
    "# allow plots to appear in the notebook\n",
    "%matplotlib inline\n",
    "import matplotlib.pyplot as plt\n",
    "plt.rcParams['font.size'] = 14"
   ]
  },
  {
   "cell_type": "code",
   "execution_count": 33,
   "metadata": {},
   "outputs": [
    {
     "data": {
      "text/plain": [
       "Text(0,0.5,'Frequency')"
      ]
     },
     "execution_count": 33,
     "metadata": {},
     "output_type": "execute_result"
    },
    {
     "data": {
      "image/png": "[encoded data removed]",
      "text/plain": [
       "<matplotlib.figure.Figure at 0xb6b3470>"
      ]
     },
     "metadata": {},
     "output_type": "display_data"
    }
   ],
   "source": [
    "# histogram of predicted probabilities\n",
    "plt.hist(y_pred_prob, bins=8)\n",
    "plt.xlim(0, 1)\n",
    "plt.title('Histogram of predicted probabilities')\n",
    "plt.xlabel('Predicted probability of too much debt')\n",
    "plt.ylabel('Frequency')"
   ]
  },
  {
   "cell_type": "code",
   "execution_count": 34,
   "metadata": {},
   "outputs": [],
   "source": [
    "# predict debt if the predicted probability is greater than 0.3\n",
    "from sklearn.preprocessing import binarize\n",
    "y_pred_class = binarize([y_pred_prob], 0.3)[0]"
   ]
  },
  {
   "cell_type": "code",
   "execution_count": 35,
   "metadata": {},
   "outputs": [
    {
     "data": {
      "text/plain": [
       "array([0.95069369, 0.56821201, 0.85631894, 0.06589149, 0.06606306,\n",
       "       0.04976932, 0.01644732, 0.23527203, 0.1223166 , 0.26114339])"
      ]
     },
     "execution_count": 35,
     "metadata": {},
     "output_type": "execute_result"
    }
   ],
   "source": [
    "# print the first 10 predicted probabilities\n",
    "y_pred_prob[0:10]"
   ]
  },
  {
   "cell_type": "code",
   "execution_count": 122,
   "metadata": {},
   "outputs": [
    {
     "name": "stdout",
     "output_type": "stream",
     "text": [
      "[[10052  5235]\n",
      " [  194  8885]]\n"
     ]
    }
   ],
   "source": [
    "# new confusion matrix (threshold of 0.3)\n",
    "print(metrics.confusion_matrix(y_test, y_pred_class))"
   ]
  },
  {
   "cell_type": "code",
   "execution_count": 37,
   "metadata": {},
   "outputs": [
    {
     "name": "stdout",
     "output_type": "stream",
     "text": [
      "0.9151467089611419\n"
     ]
    }
   ],
   "source": [
    "# sensitivity has increased (used to be 0.82)\n",
    "print(6924 / float(6924 + 642))"
   ]
  },
  {
   "cell_type": "code",
   "execution_count": 123,
   "metadata": {},
   "outputs": [
    {
     "data": {
      "image/png": "[encoded data removed]",
      "text/plain": [
       "<matplotlib.figure.Figure at 0xce41d30>"
      ]
     },
     "metadata": {},
     "output_type": "display_data"
    }
   ],
   "source": [
    "#first argument is true values, second argument is predicted probabilities\n",
    "fpr, tpr, thresholds = metrics.roc_curve(y_test, y_pred_prob)\n",
    "plt.plot(fpr, tpr)\n",
    "plt.xlim([0.0, 1.0])\n",
    "plt.ylim([0.0, 1.1])\n",
    "plt.title('Logistic Regression ROC Curve for Debt Classifier')\n",
    "plt.xlabel('False Positive Rate (1 - Specificity)')\n",
    "plt.ylabel('True Positive Rate (Sensitivity)')\n",
    "plt.grid(True)"
   ]
  },
  {
   "cell_type": "code",
   "execution_count": 39,
   "metadata": {
    "scrolled": true
   },
   "outputs": [
    {
     "name": "stdout",
     "output_type": "stream",
     "text": [
      "0.8825476036433458\n"
     ]
    }
   ],
   "source": [
    "# first argument is true values, second argument is predicted probabilities\n",
    "print(metrics.roc_auc_score(y_test, y_pred_prob))"
   ]
  },
  {
   "cell_type": "code",
   "execution_count": 40,
   "metadata": {},
   "outputs": [],
   "source": [
    "# define a function that accepts a threshold and prints sensitivity and specificity\n",
    "def evaluate_threshold(threshold):\n",
    "    print('Sensitivity:', tpr[thresholds > threshold][-1])\n",
    "    print('Specificity:', 1 - fpr[thresholds > threshold][-1])"
   ]
  },
  {
   "cell_type": "code",
   "execution_count": 41,
   "metadata": {
    "scrolled": true
   },
   "outputs": [
    {
     "name": "stdout",
     "output_type": "stream",
     "text": [
      "Sensitivity: 0.7223103357123976\n",
      "Specificity: 0.8510087133997959\n"
     ]
    }
   ],
   "source": [
    "evaluate_threshold(0.5)"
   ]
  },
  {
   "cell_type": "code",
   "execution_count": 42,
   "metadata": {},
   "outputs": [
    {
     "name": "stdout",
     "output_type": "stream",
     "text": [
      "Sensitivity: 0.8966428760243194\n",
      "Specificity: 0.7104953293037131\n"
     ]
    }
   ],
   "source": [
    "evaluate_threshold(0.3)"
   ]
  },
  {
   "cell_type": "code",
   "execution_count": null,
   "metadata": {},
   "outputs": [],
   "source": []
  },
  {
   "cell_type": "code",
   "execution_count": null,
   "metadata": {},
   "outputs": [],
   "source": []
  },
  {
   "cell_type": "code",
   "execution_count": 43,
   "metadata": {},
   "outputs": [
    {
     "name": "stderr",
     "output_type": "stream",
     "text": [
      "[Parallel(n_jobs=1)]: Done   1 out of   1 | elapsed:    0.4s remaining:    0.0s\n",
      "[Parallel(n_jobs=1)]: Done   2 out of   2 | elapsed:    1.1s remaining:    0.0s\n",
      "[Parallel(n_jobs=1)]: Done   3 out of   3 | elapsed:    1.8s finished\n"
     ]
    },
    {
     "data": {
      "text/plain": [
       "LogisticRegressionCV(Cs=[0.01, 0.1, 1, 10, 100], class_weight=None, cv=3,\n",
       "           dual=False, fit_intercept=True, intercept_scaling=1.0,\n",
       "           max_iter=100, multi_class='ovr', n_jobs=1, penalty='l2',\n",
       "           random_state=None, refit=True, scoring=None, solver='lbfgs',\n",
       "           tol=0.0001, verbose=3)"
      ]
     },
     "execution_count": 43,
     "metadata": {},
     "output_type": "execute_result"
    }
   ],
   "source": [
    "# Logistic Regression Cross Validation\n",
    "logreg = LogisticRegression()\n",
    "logregCV = LogisticRegressionCV(Cs=[0.01,0.1,1,10,100], penalty='l2', cv =3, verbose = 3)\n",
    "logregCV.fit(X_train, y_train)"
   ]
  },
  {
   "cell_type": "code",
   "execution_count": 44,
   "metadata": {},
   "outputs": [
    {
     "data": {
      "text/plain": [
       "(0.8038381981153758, 0.8030534351145038)"
      ]
     },
     "execution_count": 44,
     "metadata": {},
     "output_type": "execute_result"
    }
   ],
   "source": [
    "# make class predictions for the testing set\n",
    "y_pred_class = logregCV.predict(X_test)\n",
    "\n",
    "logregCV.score(X_train, y_train), logregCV.score(X_test, y_test)"
   ]
  },
  {
   "cell_type": "code",
   "execution_count": 45,
   "metadata": {},
   "outputs": [
    {
     "name": "stdout",
     "output_type": "stream",
     "text": [
      "0.8030534351145038\n",
      "0.7866058534180941\n"
     ]
    }
   ],
   "source": [
    "print(metrics.accuracy_score(y_test, y_pred_class))\n",
    "print(metrics.roc_auc_score(y_test, y_pred_class))"
   ]
  },
  {
   "cell_type": "code",
   "execution_count": 46,
   "metadata": {},
   "outputs": [],
   "source": [
    "# pd.DataFrame(data = {\n",
    "#     \"class_lables\":logregCV.classes_,\n",
    "#     \"year\": logregCV.coef_[:,0]})"
   ]
  },
  {
   "cell_type": "code",
   "execution_count": 47,
   "metadata": {
    "scrolled": true
   },
   "outputs": [
    {
     "data": {
      "text/plain": [
       "(81219, 61)"
      ]
     },
     "execution_count": 47,
     "metadata": {},
     "output_type": "execute_result"
    }
   ],
   "source": [
    "finance.shape"
   ]
  },
  {
   "cell_type": "code",
   "execution_count": 142,
   "metadata": {},
   "outputs": [
    {
     "name": "stderr",
     "output_type": "stream",
     "text": [
      "C:\\Users\\578735\\AppData\\Local\\Continuum\\anaconda3\\New_folder\\lib\\site-packages\\ipykernel_launcher.py:3: FutureWarning: reshape is deprecated and will raise in a subsequent release. Please use .values.reshape(...) instead\n",
      "  This is separate from the ipykernel package so we can avoid doing imports until\n"
     ]
    }
   ],
   "source": [
    "# DECISION TREE MODEL\n",
    "X = finance.drop('too_much_debt', axis = 1)\n",
    "y = finance.too_much_debt.reshape(81219,1)\n",
    "\n",
    "X_train, X_test, y_train, y_test = train_test_split(X, y, test_size = 0.3, stratify = y)"
   ]
  },
  {
   "cell_type": "code",
   "execution_count": 143,
   "metadata": {},
   "outputs": [
    {
     "name": "stdout",
     "output_type": "stream",
     "text": [
      "(81219, 60)\n",
      "(81219, 1)\n"
     ]
    }
   ],
   "source": [
    "print(X.shape)\n",
    "print(y.shape)"
   ]
  },
  {
   "cell_type": "code",
   "execution_count": 144,
   "metadata": {
    "scrolled": true
   },
   "outputs": [
    {
     "data": {
      "text/plain": [
       "(0.8243892142894834, 0.8243864401214808)"
      ]
     },
     "execution_count": 144,
     "metadata": {},
     "output_type": "execute_result"
    }
   ],
   "source": [
    "from sklearn.tree import DecisionTreeClassifier\n",
    "tree = DecisionTreeClassifier(max_depth = 3, criterion = 'entropy', min_samples_split=2, min_samples_leaf=1)\n",
    "\n",
    "tree.fit(X_train, y_train)\n",
    "tree.score(X_train, y_train), tree.score(X_test, y_test)"
   ]
  },
  {
   "cell_type": "code",
   "execution_count": 145,
   "metadata": {},
   "outputs": [
    {
     "name": "stdout",
     "output_type": "stream",
     "text": [
      "0.8243864401214808\n"
     ]
    }
   ],
   "source": [
    "# make class predictions for the testing set\n",
    "y_pred= tree.predict(X_test)\n",
    "\n",
    "print(metrics.accuracy_score(y_test, y_pred))\n"
   ]
  },
  {
   "cell_type": "code",
   "execution_count": null,
   "metadata": {},
   "outputs": [],
   "source": []
  },
  {
   "cell_type": "code",
   "execution_count": 146,
   "metadata": {},
   "outputs": [],
   "source": [
    "# from sklearn.externals.six import StringIO  \n",
    "# from IPython.display import Image  \n",
    "# from sklearn.tree import export_graphviz\n",
    "# import pydotplus\n",
    "\n",
    "# dot_data = StringIO()\n",
    "# export_graphviz(tree, out_file='tree.dot',  \n",
    "#                 filled=True, rounded=True,\n",
    "#                 special_characters=True)\n",
    "\n",
    "# graph = pydotplus.graph_from_dot_data(dot_data.getvalue())  \n",
    "# Image(graph.create_png())\n",
    "# # export_graphviz(tree, out_file='./assets/tree_titanic.dot')\n",
    "\n",
    "\n",
    "\n",
    "from sklearn.externals.six import StringIO  \n",
    "from IPython.display import Image  \n",
    "from sklearn.tree import export_graphviz\n",
    "import pydotplus\n",
    "\n",
    "def Plot_Tree(model):\n",
    "    dot_data = StringIO() \n",
    "    export_graphviz(model, out_file=dot_data,  \n",
    "                    filled=True, rounded=True,\n",
    "                    special_characters=True,\n",
    "                    feature_names=X_train.columns)  \n",
    "\n",
    "    graph = pydotplus.graph_from_dot_data(dot_data.getvalue())  \n",
    "    return display(Image(graph.create_png()))\n"
   ]
  },
  {
   "cell_type": "code",
   "execution_count": 147,
   "metadata": {},
   "outputs": [],
   "source": [
    "# Plot_Tree(Image)"
   ]
  },
  {
   "cell_type": "code",
   "execution_count": 148,
   "metadata": {},
   "outputs": [
    {
     "name": "stdout",
     "output_type": "stream",
     "text": [
      "             precision    recall  f1-score   support\n",
      "\n",
      "          0       0.90      0.81      0.85     15287\n",
      "          1       0.72      0.85      0.78      9079\n",
      "\n",
      "avg / total       0.84      0.82      0.83     24366\n",
      "\n"
     ]
    }
   ],
   "source": [
    "from sklearn.metrics import classification_report\n",
    "print(classification_report(y_test, y_pred))"
   ]
  },
  {
   "cell_type": "code",
   "execution_count": 64,
   "metadata": {},
   "outputs": [
    {
     "name": "stdout",
     "output_type": "stream",
     "text": [
      "[[12325  2962]\n",
      " [ 1353  7726]]\n"
     ]
    }
   ],
   "source": [
    "# Confusion Matrix\n",
    "from sklearn.metrics import confusion_matrix\n",
    "print(confusion_matrix(y_test, y_pred))\n"
   ]
  },
  {
   "cell_type": "code",
   "execution_count": 89,
   "metadata": {},
   "outputs": [
    {
     "data": {
      "text/plain": [
       "array([[0.34562291, 0.65437709],\n",
       "       [0.74146102, 0.25853898],\n",
       "       [1.        , 0.        ],\n",
       "       [1.        , 0.        ],\n",
       "       [0.74146102, 0.25853898],\n",
       "       [0.34562291, 0.65437709],\n",
       "       [0.74146102, 0.25853898],\n",
       "       [0.34562291, 0.65437709],\n",
       "       [0.74146102, 0.25853898],\n",
       "       [0.74146102, 0.25853898]])"
      ]
     },
     "execution_count": 89,
     "metadata": {},
     "output_type": "execute_result"
    }
   ],
   "source": [
    "# print the first 10 predicted probabilities of class membership\n",
    "tree.predict_proba(X_test)[0:10, :]"
   ]
  },
  {
   "cell_type": "code",
   "execution_count": 90,
   "metadata": {},
   "outputs": [
    {
     "data": {
      "text/plain": [
       "array([0.65437709, 0.25853898, 0.        , 0.        , 0.25853898,\n",
       "       0.65437709, 0.25853898, 0.65437709, 0.25853898, 0.25853898])"
      ]
     },
     "execution_count": 90,
     "metadata": {},
     "output_type": "execute_result"
    }
   ],
   "source": [
    "# print the first 10 predicted probabilities for class 1\n",
    "tree.predict_proba(X_test)[0:10, 1]"
   ]
  },
  {
   "cell_type": "code",
   "execution_count": 91,
   "metadata": {},
   "outputs": [],
   "source": [
    "y_pred_prob = tree.predict_proba(X_test)[:, 1]"
   ]
  },
  {
   "cell_type": "code",
   "execution_count": 92,
   "metadata": {},
   "outputs": [],
   "source": [
    "# allow plots to appear in the notebook\n",
    "%matplotlib inline\n",
    "import matplotlib.pyplot as plt\n",
    "plt.rcParams['font.size'] = 14"
   ]
  },
  {
   "cell_type": "code",
   "execution_count": 93,
   "metadata": {},
   "outputs": [
    {
     "data": {
      "text/plain": [
       "Text(0,0.5,'Frequency')"
      ]
     },
     "execution_count": 93,
     "metadata": {},
     "output_type": "execute_result"
    },
    {
     "data": {
      "image/png": "[encoded data removed]",
      "text/plain": [
       "<matplotlib.figure.Figure at 0xccd7b70>"
      ]
     },
     "metadata": {},
     "output_type": "display_data"
    }
   ],
   "source": [
    "# histogram of predicted probabilities\n",
    "plt.hist(y_pred_prob, bins=8)\n",
    "plt.xlim(0, 1)\n",
    "plt.title('Histogram of predicted probabilities')\n",
    "plt.xlabel('Predicted probability of too much debt')\n",
    "plt.ylabel('Frequency')"
   ]
  },
  {
   "cell_type": "code",
   "execution_count": 94,
   "metadata": {},
   "outputs": [],
   "source": [
    "# predict debt if the predicted probability is greater than 0.3\n",
    "from sklearn.preprocessing import binarize\n",
    "y_pred_class = binarize([y_pred_prob], 0.3)[0]"
   ]
  },
  {
   "cell_type": "code",
   "execution_count": 95,
   "metadata": {},
   "outputs": [
    {
     "data": {
      "text/plain": [
       "array([0.65437709, 0.25853898, 0.        , 0.        , 0.25853898,\n",
       "       0.65437709, 0.25853898, 0.65437709, 0.25853898, 0.25853898])"
      ]
     },
     "execution_count": 95,
     "metadata": {},
     "output_type": "execute_result"
    }
   ],
   "source": [
    "# print the first 10 predicted probabilities\n",
    "y_pred_prob[0:10]"
   ]
  },
  {
   "cell_type": "code",
   "execution_count": 96,
   "metadata": {},
   "outputs": [
    {
     "name": "stdout",
     "output_type": "stream",
     "text": [
      "[[12379  2908]\n",
      " [ 1344  7735]]\n"
     ]
    }
   ],
   "source": [
    "# new confusion matrix (threshold of 0.3)\n",
    "print(metrics.confusion_matrix(y_test, y_pred_class))"
   ]
  },
  {
   "cell_type": "code",
   "execution_count": 97,
   "metadata": {},
   "outputs": [
    {
     "name": "stdout",
     "output_type": "stream",
     "text": [
      "0.9233412635474492\n"
     ]
    }
   ],
   "source": [
    "# sensitivity has increased (used to be 0.84)\n",
    "print(6986 / float(6986 + 580))"
   ]
  },
  {
   "cell_type": "code",
   "execution_count": 102,
   "metadata": {},
   "outputs": [
    {
     "data": {
      "image/png": "[encoded data removed]",
      "text/plain": [
       "<matplotlib.figure.Figure at 0x10fdea90>"
      ]
     },
     "metadata": {},
     "output_type": "display_data"
    }
   ],
   "source": [
    "#first argument is true values, second argument is predicted probabilities\n",
    "fpr, tpr, thresholds = metrics.roc_curve(y_test, y_pred_prob)\n",
    "plt.plot(fpr, tpr)\n",
    "plt.xlim([0.0, 1.0])\n",
    "plt.ylim([0.0, 1.2])\n",
    "plt.title('Decision Tree Model ROC curve for debt classifier')\n",
    "plt.xlabel('False Positive Rate (1 - Specificity)')\n",
    "plt.ylabel('True Positive Rate (Sensitivity)')\n",
    "plt.grid(True)"
   ]
  },
  {
   "cell_type": "code",
   "execution_count": 75,
   "metadata": {},
   "outputs": [
    {
     "name": "stdout",
     "output_type": "stream",
     "text": [
      "0.8888294172332458\n"
     ]
    }
   ],
   "source": [
    "# first argument is true values, second argument is predicted probabilities\n",
    "print(metrics.roc_auc_score(y_test, y_pred_prob))"
   ]
  },
  {
   "cell_type": "code",
   "execution_count": 76,
   "metadata": {},
   "outputs": [],
   "source": [
    "# define a function that accepts a threshold and prints sensitivity and specificity\n",
    "def evaluate_threshold(threshold):\n",
    "    print('Sensitivity:', tpr[thresholds > threshold][-1])\n",
    "    print('Specificity:', 1 - fpr[thresholds > threshold][-1])"
   ]
  },
  {
   "cell_type": "code",
   "execution_count": 77,
   "metadata": {},
   "outputs": [
    {
     "name": "stdout",
     "output_type": "stream",
     "text": [
      "Sensitivity: 0.8509747769578148\n",
      "Specificity: 0.806240596585334\n",
      "Sensitivity: 0.8509747769578148\n",
      "Specificity: 0.806240596585334\n"
     ]
    }
   ],
   "source": [
    "evaluate_threshold(0.5)\n",
    "\n",
    "evaluate_threshold(0.3)"
   ]
  },
  {
   "cell_type": "code",
   "execution_count": null,
   "metadata": {},
   "outputs": [],
   "source": []
  },
  {
   "cell_type": "code",
   "execution_count": 58,
   "metadata": {},
   "outputs": [],
   "source": [
    "# Create a Graphviz file.\n",
    "from sklearn.tree import export_graphviz\n",
    "export_graphviz(tree, out_file='./Medical_debt.dot')\n",
    "\n",
    "# At the command line, run this to convert to PNG:\n",
    "#   dot -Tpng Medical_debt.dot -o Medical_debt.png\n"
   ]
  },
  {
   "cell_type": "code",
   "execution_count": null,
   "metadata": {},
   "outputs": [],
   "source": []
  },
  {
   "cell_type": "code",
   "execution_count": 70,
   "metadata": {},
   "outputs": [],
   "source": [
    "features_summary = pd.DataFrame({\n",
    "    \"Feature_Names\": X.columns,\n",
    "    \"Feature_Importance\" :tree.feature_importances_\n",
    "}, columns = ['Feature_Names','Feature_Importance'])"
   ]
  },
  {
   "cell_type": "code",
   "execution_count": 71,
   "metadata": {},
   "outputs": [
    {
     "data": {
      "text/html": [
       "<div>\n",
       "<style scoped>\n",
       "    .dataframe tbody tr th:only-of-type {\n",
       "        vertical-align: middle;\n",
       "    }\n",
       "\n",
       "    .dataframe tbody tr th {\n",
       "        vertical-align: top;\n",
       "    }\n",
       "\n",
       "    .dataframe thead th {\n",
       "        text-align: right;\n",
       "    }\n",
       "</style>\n",
       "<table border=\"1\" class=\"dataframe\">\n",
       "  <thead>\n",
       "    <tr style=\"text-align: right;\">\n",
       "      <th></th>\n",
       "      <th>Feature_Names</th>\n",
       "      <th>Feature_Importance</th>\n",
       "    </tr>\n",
       "  </thead>\n",
       "  <tbody>\n",
       "    <tr>\n",
       "      <th>0</th>\n",
       "      <td>year</td>\n",
       "      <td>0.734324</td>\n",
       "    </tr>\n",
       "    <tr>\n",
       "      <th>22</th>\n",
       "      <td>monthly_burden</td>\n",
       "      <td>0.163488</td>\n",
       "    </tr>\n",
       "    <tr>\n",
       "      <th>43</th>\n",
       "      <td>pay_full_bill_credit_card</td>\n",
       "      <td>0.102187</td>\n",
       "    </tr>\n",
       "    <tr>\n",
       "      <th>31</th>\n",
       "      <td>contribute_regularly_retirement_2012</td>\n",
       "      <td>0.000000</td>\n",
       "    </tr>\n",
       "    <tr>\n",
       "      <th>33</th>\n",
       "      <td>retirement_plans_2009</td>\n",
       "      <td>0.000000</td>\n",
       "    </tr>\n",
       "    <tr>\n",
       "      <th>34</th>\n",
       "      <td>other_retirement_plans_2009</td>\n",
       "      <td>0.000000</td>\n",
       "    </tr>\n",
       "    <tr>\n",
       "      <th>35</th>\n",
       "      <td>contribute_regularly_retirement_2009</td>\n",
       "      <td>0.000000</td>\n",
       "    </tr>\n",
       "    <tr>\n",
       "      <th>36</th>\n",
       "      <td>loan_from_retirement_2009</td>\n",
       "      <td>0.000000</td>\n",
       "    </tr>\n",
       "    <tr>\n",
       "      <th>37</th>\n",
       "      <td>investments</td>\n",
       "      <td>0.000000</td>\n",
       "    </tr>\n",
       "    <tr>\n",
       "      <th>38</th>\n",
       "      <td>withdraw_from_retirement</td>\n",
       "      <td>0.000000</td>\n",
       "    </tr>\n",
       "  </tbody>\n",
       "</table>\n",
       "</div>"
      ],
      "text/plain": [
       "                           Feature_Names  Feature_Importance\n",
       "0                                   year            0.734324\n",
       "22                        monthly_burden            0.163488\n",
       "43             pay_full_bill_credit_card            0.102187\n",
       "31  contribute_regularly_retirement_2012            0.000000\n",
       "33                 retirement_plans_2009            0.000000\n",
       "34           other_retirement_plans_2009            0.000000\n",
       "35  contribute_regularly_retirement_2009            0.000000\n",
       "36             loan_from_retirement_2009            0.000000\n",
       "37                           investments            0.000000\n",
       "38              withdraw_from_retirement            0.000000"
      ]
     },
     "execution_count": 71,
     "metadata": {},
     "output_type": "execute_result"
    }
   ],
   "source": [
    "features_summary.sort_values(by = 'Feature_Importance', ascending = False).head(10)"
   ]
  },
  {
   "cell_type": "code",
   "execution_count": 73,
   "metadata": {},
   "outputs": [
    {
     "data": {
      "text/plain": [
       "<matplotlib.axes._subplots.AxesSubplot at 0xbb96320>"
      ]
     },
     "execution_count": 73,
     "metadata": {},
     "output_type": "execute_result"
    },
    {
     "data": {
      "image/png": "[encoded data removed]",
      "text/plain": [
       "<matplotlib.figure.Figure at 0xb8072e8>"
      ]
     },
     "metadata": {},
     "output_type": "display_data"
    }
   ],
   "source": [
    "top_15_tree_features = features_summary.sort_values(by = 'Feature_Importance', ascending = False).head(10).copy()\n",
    "\n",
    "top_15_tree_features.plot(kind='barh', x = 'Feature_Names', y = 'Feature_Importance', figsize = (12,7))"
   ]
  },
  {
   "cell_type": "code",
   "execution_count": null,
   "metadata": {},
   "outputs": [],
   "source": []
  },
  {
   "cell_type": "code",
   "execution_count": 149,
   "metadata": {},
   "outputs": [
    {
     "name": "stderr",
     "output_type": "stream",
     "text": [
      "C:\\Users\\578735\\AppData\\Local\\Continuum\\anaconda3\\New_folder\\lib\\site-packages\\ipykernel_launcher.py:4: FutureWarning: reshape is deprecated and will raise in a subsequent release. Please use .values.reshape(...) instead\n",
      "  after removing the cwd from sys.path.\n",
      "C:\\Users\\578735\\AppData\\Local\\Continuum\\anaconda3\\New_folder\\lib\\site-packages\\ipykernel_launcher.py:10: DataConversionWarning: A column-vector y was passed when a 1d array was expected. Please change the shape of y to (n_samples,), for example using ravel().\n",
      "  # Remove the CWD from sys.path while we load stuff.\n",
      "C:\\Users\\578735\\AppData\\Local\\Continuum\\anaconda3\\New_folder\\lib\\site-packages\\sklearn\\ensemble\\forest.py:724: UserWarning: Some inputs do not have OOB scores. This probably means too few trees were used to compute any reliable oob estimates.\n",
      "  warn(\"Some inputs do not have OOB scores. \"\n"
     ]
    },
    {
     "data": {
      "text/plain": [
       "(0.8835751061348812, 0.4581185178055876)"
      ]
     },
     "execution_count": 149,
     "metadata": {},
     "output_type": "execute_result"
    }
   ],
   "source": [
    "from sklearn.ensemble import RandomForestRegressor\n",
    "\n",
    "X = finance.drop('too_much_debt', axis = 1)\n",
    "y = finance.too_much_debt.reshape(81219,1)\n",
    "\n",
    "X_train, X_test, y_train, y_test = train_test_split(X, y, test_size = 0.3, stratify = y)\n",
    "\n",
    "rf = RandomForestRegressor(n_estimators=5, oob_score=True, random_state=4)\n",
    "\n",
    "rf.fit(X_train, y_train)\n",
    "\n",
    "y_pred= rf.predict(X_test)\n",
    "\n",
    "rf.score(X_train, y_train), rf.score(X_test, y_test)"
   ]
  },
  {
   "cell_type": "code",
   "execution_count": 150,
   "metadata": {},
   "outputs": [
    {
     "name": "stdout",
     "output_type": "stream",
     "text": [
      "0.8927120916835674\n"
     ]
    }
   ],
   "source": [
    "print(metrics.roc_auc_score(y_test, y_pred))"
   ]
  },
  {
   "cell_type": "code",
   "execution_count": 76,
   "metadata": {},
   "outputs": [],
   "source": [
    "# from sklearn.metrics import classification_report\n",
    "# print(classification_report(y_test, y_pred))"
   ]
  },
  {
   "cell_type": "code",
   "execution_count": null,
   "metadata": {},
   "outputs": [],
   "source": []
  },
  {
   "cell_type": "code",
   "execution_count": 151,
   "metadata": {},
   "outputs": [
    {
     "name": "stderr",
     "output_type": "stream",
     "text": [
      "C:\\Users\\578735\\AppData\\Local\\Continuum\\anaconda3\\New_folder\\lib\\site-packages\\ipykernel_launcher.py:2: FutureWarning: reshape is deprecated and will raise in a subsequent release. Please use .values.reshape(...) instead\n",
      "  \n"
     ]
    }
   ],
   "source": [
    "temp = finance.drop('too_much_debt', axis = 1)\n",
    "y_temp = finance.too_much_debt.reshape(81219,1)"
   ]
  },
  {
   "cell_type": "code",
   "execution_count": 78,
   "metadata": {},
   "outputs": [],
   "source": [
    "# from sklearn.decomposition import PCA\n",
    "# pca = PCA()\n",
    "# pca.fit(X_train)\n",
    "# cpts = pd.DataFrame(pca.transform(X_train))\n",
    "# x_axis = np.arange(1, pca.n_components_+1)\n",
    "# pca_scaled = PCA()\n",
    "# pca_scaled.fit(X_train)\n",
    "# cpts_scaled = pd.DataFrame(pca.transform(X_train))"
   ]
  },
  {
   "cell_type": "code",
   "execution_count": null,
   "metadata": {},
   "outputs": [],
   "source": []
  },
  {
   "cell_type": "code",
   "execution_count": 79,
   "metadata": {
    "scrolled": true
   },
   "outputs": [
    {
     "data": {
      "text/plain": [
       "(81219, 30)"
      ]
     },
     "execution_count": 79,
     "metadata": {},
     "output_type": "execute_result"
    }
   ],
   "source": [
    "pca = PCA(n_components=30)\n",
    "pca.fit(temp)\n",
    "pca = pca.transform(temp)\n",
    "pca.shape"
   ]
  },
  {
   "cell_type": "code",
   "execution_count": 80,
   "metadata": {},
   "outputs": [],
   "source": [
    "# # make class predictions for the testing set\n",
    "# y_pred= pca.predict(X_test)\n",
    "# print(metrics.accuracy_score(y_test, y_pred))"
   ]
  },
  {
   "cell_type": "code",
   "execution_count": null,
   "metadata": {},
   "outputs": [],
   "source": []
  },
  {
   "cell_type": "code",
   "execution_count": 81,
   "metadata": {},
   "outputs": [],
   "source": [
    "# logregCV = LogisticRegressionCV(Cs=[0.01,0.1,1,10,100], penalty='l2', cv =3, verbose = 3)\n",
    "\n",
    "# logregCV.fit(X_pca, y_temp)"
   ]
  },
  {
   "cell_type": "code",
   "execution_count": 82,
   "metadata": {},
   "outputs": [],
   "source": [
    "# logregCV.get_params"
   ]
  },
  {
   "cell_type": "code",
   "execution_count": 83,
   "metadata": {
    "scrolled": true
   },
   "outputs": [],
   "source": [
    "# logregCV.score(X_pca, y_temp)"
   ]
  },
  {
   "cell_type": "code",
   "execution_count": null,
   "metadata": {},
   "outputs": [],
   "source": []
  },
  {
   "cell_type": "code",
   "execution_count": 84,
   "metadata": {},
   "outputs": [],
   "source": [
    "# It appears that PCA did not help as much as Decision Tree.\n",
    "# other things to try: Using with and without scaler (MinMax, StandardScaler), try with and without PCA (salce before PCA).\n",
    "# Also Try RandomForestClassifier, its in the emsemble.  Try n_estimators = 5,10,25,50,100,200."
   ]
  },
  {
   "cell_type": "code",
   "execution_count": null,
   "metadata": {},
   "outputs": [],
   "source": []
  },
  {
   "cell_type": "code",
   "execution_count": 152,
   "metadata": {},
   "outputs": [],
   "source": [
    "#GRIDSEARCHCV MODEL defines a list of parameters that will be searched using k-fold cross validation. \n",
    "from sklearn.model_selection import GridSearchCV"
   ]
  },
  {
   "cell_type": "code",
   "execution_count": 153,
   "metadata": {
    "scrolled": true
   },
   "outputs": [
    {
     "data": {
      "text/plain": [
       "GridSearchCV(cv=3, error_score='raise',\n",
       "       estimator=DecisionTreeClassifier(class_weight=None, criterion='gini', max_depth=None,\n",
       "            max_features=None, max_leaf_nodes=None,\n",
       "            min_impurity_decrease=0.0, min_impurity_split=None,\n",
       "            min_samples_leaf=1, min_samples_split=2,\n",
       "            min_weight_fraction_leaf=0.0, presort=False, random_state=None,\n",
       "            splitter='best'),\n",
       "       fit_params=None, iid=True, n_jobs=2,\n",
       "       param_grid={'max_depth': [3, 5, 10], 'criterion': ['gini', 'entropy']},\n",
       "       pre_dispatch='2*n_jobs', refit=True, return_train_score='warn',\n",
       "       scoring=None, verbose=0)"
      ]
     },
     "execution_count": 153,
     "metadata": {},
     "output_type": "execute_result"
    }
   ],
   "source": [
    "model = DecisionTreeClassifier()\n",
    "\n",
    "model_params = {\n",
    "    \"max_depth\": [3, 5, 10],\n",
    "    \"criterion\": ['gini','entropy'],\n",
    "}\n",
    "\n",
    "gs = GridSearchCV(model, model_params, cv =3, n_jobs = 2)\n",
    "gs.fit (X_train, y_train)"
   ]
  },
  {
   "cell_type": "code",
   "execution_count": 154,
   "metadata": {},
   "outputs": [
    {
     "name": "stdout",
     "output_type": "stream",
     "text": [
      "0.8331281293605844\n"
     ]
    }
   ],
   "source": [
    "# make class predictions for the testing set\n",
    "y_pred= gs.predict(X_test)\n",
    "print(metrics.accuracy_score(y_test, y_pred))"
   ]
  },
  {
   "cell_type": "code",
   "execution_count": 155,
   "metadata": {},
   "outputs": [
    {
     "data": {
      "text/plain": [
       "(0.8361388141346983, 0.8331281293605844)"
      ]
     },
     "execution_count": 155,
     "metadata": {},
     "output_type": "execute_result"
    }
   ],
   "source": [
    "gs.score(X_train, y_train), gs.score(X_test, y_test)"
   ]
  },
  {
   "cell_type": "code",
   "execution_count": 156,
   "metadata": {},
   "outputs": [
    {
     "name": "stdout",
     "output_type": "stream",
     "text": [
      "             precision    recall  f1-score   support\n",
      "\n",
      "          0       0.87      0.87      0.87     15287\n",
      "          1       0.78      0.77      0.78      9079\n",
      "\n",
      "avg / total       0.83      0.83      0.83     24366\n",
      "\n"
     ]
    }
   ],
   "source": [
    "from sklearn.metrics import classification_report\n",
    "print(classification_report(y_test, y_pred))"
   ]
  },
  {
   "cell_type": "code",
   "execution_count": 157,
   "metadata": {},
   "outputs": [
    {
     "name": "stdout",
     "output_type": "stream",
     "text": [
      "[[13272  2015]\n",
      " [ 2051  7028]]\n"
     ]
    }
   ],
   "source": [
    "# Confusion Matrix\n",
    "from sklearn.metrics import confusion_matrix\n",
    "print(confusion_matrix(y_test, y_pred))"
   ]
  },
  {
   "cell_type": "code",
   "execution_count": 158,
   "metadata": {},
   "outputs": [
    {
     "name": "stdout",
     "output_type": "stream",
     "text": [
      "0.4986618553251053\n"
     ]
    }
   ],
   "source": [
    "print(metrics.roc_auc_score(y_test, y_pred_class))"
   ]
  },
  {
   "cell_type": "code",
   "execution_count": 159,
   "metadata": {},
   "outputs": [
    {
     "data": {
      "text/plain": [
       "array([[1.        , 0.        ],\n",
       "       [0.35714286, 0.64285714],\n",
       "       [1.        , 0.        ],\n",
       "       [0.34693878, 0.65306122],\n",
       "       [0.19430693, 0.80569307],\n",
       "       [1.        , 0.        ],\n",
       "       [0.2234763 , 0.7765237 ],\n",
       "       [1.        , 0.        ],\n",
       "       [0.35714286, 0.64285714],\n",
       "       [1.        , 0.        ]])"
      ]
     },
     "execution_count": 159,
     "metadata": {},
     "output_type": "execute_result"
    }
   ],
   "source": [
    "# print the first 10 predicted probabilities of class membership\n",
    "gs.predict_proba(X_test)[0:10, :]\n"
   ]
  },
  {
   "cell_type": "code",
   "execution_count": 111,
   "metadata": {},
   "outputs": [
    {
     "data": {
      "text/plain": [
       "array([0.80771866, 0.08591153, 0.        , 0.        , 0.30317274,\n",
       "       0.63682277, 0.30522332, 0.46148256, 0.30522332, 0.30522332])"
      ]
     },
     "execution_count": 111,
     "metadata": {},
     "output_type": "execute_result"
    }
   ],
   "source": [
    "# print the first 10 predicted probabilities for class 1\n",
    "gs.predict_proba(X_test)[0:10, 1]"
   ]
  },
  {
   "cell_type": "code",
   "execution_count": 112,
   "metadata": {},
   "outputs": [],
   "source": [
    "# store the predicted probabilities for class 1\n",
    "y_pred_prob = gs.predict_proba(X_test)[:, 1]"
   ]
  },
  {
   "cell_type": "code",
   "execution_count": 113,
   "metadata": {},
   "outputs": [],
   "source": [
    "# allow plots to appear in the notebook\n",
    "%matplotlib inline\n",
    "import matplotlib.pyplot as plt\n",
    "plt.rcParams['font.size'] = 14"
   ]
  },
  {
   "cell_type": "code",
   "execution_count": 114,
   "metadata": {},
   "outputs": [
    {
     "data": {
      "text/plain": [
       "Text(0,0.5,'Frequency')"
      ]
     },
     "execution_count": 114,
     "metadata": {},
     "output_type": "execute_result"
    },
    {
     "data": {
      "image/png": "[encoded data removed]",
      "text/plain": [
       "<matplotlib.figure.Figure at 0x10fb4908>"
      ]
     },
     "metadata": {},
     "output_type": "display_data"
    }
   ],
   "source": [
    "# histogram of predicted probabilities\n",
    "plt.hist(y_pred_prob, bins=8)\n",
    "plt.xlim(0, 1)\n",
    "plt.title('Histogram of predicted probabilities')\n",
    "plt.xlabel('Predicted probability of too much debt')\n",
    "plt.ylabel('Frequency')"
   ]
  },
  {
   "cell_type": "code",
   "execution_count": 115,
   "metadata": {},
   "outputs": [],
   "source": [
    "# predict debt if the predicted probability is greater than 0.3\n",
    "from sklearn.preprocessing import binarize\n",
    "y_pred_class = binarize([y_pred_prob], 0.3)[0]"
   ]
  },
  {
   "cell_type": "code",
   "execution_count": 116,
   "metadata": {},
   "outputs": [
    {
     "data": {
      "text/plain": [
       "array([0.80771866, 0.08591153, 0.        , 0.        , 0.30317274,\n",
       "       0.63682277, 0.30522332, 0.46148256, 0.30522332, 0.30522332])"
      ]
     },
     "execution_count": 116,
     "metadata": {},
     "output_type": "execute_result"
    }
   ],
   "source": [
    "# print the first 10 predicted probabilities\n",
    "y_pred_prob[0:10]"
   ]
  },
  {
   "cell_type": "code",
   "execution_count": 117,
   "metadata": {},
   "outputs": [
    {
     "name": "stdout",
     "output_type": "stream",
     "text": [
      "[[10052  5235]\n",
      " [  194  8885]]\n"
     ]
    }
   ],
   "source": [
    "# new confusion matrix (threshold of 0.3)\n",
    "print(metrics.confusion_matrix(y_test, y_pred_class))"
   ]
  },
  {
   "cell_type": "code",
   "execution_count": 118,
   "metadata": {},
   "outputs": [
    {
     "name": "stdout",
     "output_type": "stream",
     "text": [
      "0.9257203277821835\n"
     ]
    }
   ],
   "source": [
    "# sensitivity has increased (used to be 0.82)\n",
    "print(7004 / float(7004 + 562))"
   ]
  },
  {
   "cell_type": "code",
   "execution_count": 121,
   "metadata": {},
   "outputs": [
    {
     "data": {
      "image/png": "[encoded data removed]",
      "text/plain": [
       "<matplotlib.figure.Figure at 0xccf9b00>"
      ]
     },
     "metadata": {},
     "output_type": "display_data"
    }
   ],
   "source": [
    "#first argument is true values, second argument is predicted probabilities\n",
    "fpr, tpr, thresholds = metrics.roc_curve(y_test, y_pred_prob)\n",
    "plt.plot(fpr, tpr)\n",
    "plt.xlim([0.0, 1.0])\n",
    "plt.ylim([0.0, 1.1])\n",
    "plt.title('GridSearchCV Model ROC Curve for Debt Classifier')\n",
    "plt.xlabel('False Positive Rate (1 - Specificity)')\n",
    "plt.ylabel('True Positive Rate (Sensitivity)')\n",
    "plt.grid(True)"
   ]
  },
  {
   "cell_type": "code",
   "execution_count": 102,
   "metadata": {},
   "outputs": [
    {
     "name": "stdout",
     "output_type": "stream",
     "text": [
      "0.9111889853001864\n"
     ]
    }
   ],
   "source": [
    "# first argument is true values, second argument is predicted probabilities\n",
    "print(metrics.roc_auc_score(y_test, y_pred_prob))"
   ]
  },
  {
   "cell_type": "code",
   "execution_count": 103,
   "metadata": {},
   "outputs": [],
   "source": [
    "# define a function that accepts a threshold and prints sensitivity and specificity\n",
    "def evaluate_threshold(threshold):\n",
    "    print('Sensitivity:', tpr[thresholds > threshold][-1])\n",
    "    print('Specificity:', 1 - fpr[thresholds > threshold][-1])"
   ]
  },
  {
   "cell_type": "code",
   "execution_count": 104,
   "metadata": {},
   "outputs": [
    {
     "name": "stdout",
     "output_type": "stream",
     "text": [
      "Sensitivity: 0.7924881594889305\n",
      "Specificity: 0.8619088114083862\n",
      "Sensitivity: 0.8832470536402688\n",
      "Specificity: 0.7878589651337737\n"
     ]
    }
   ],
   "source": [
    "evaluate_threshold(0.5)\n",
    "\n",
    "evaluate_threshold(0.3)"
   ]
  },
  {
   "cell_type": "code",
   "execution_count": null,
   "metadata": {},
   "outputs": [],
   "source": []
  },
  {
   "cell_type": "code",
   "execution_count": null,
   "metadata": {},
   "outputs": [],
   "source": []
  },
  {
   "cell_type": "code",
   "execution_count": null,
   "metadata": {},
   "outputs": [],
   "source": []
  },
  {
   "cell_type": "code",
   "execution_count": null,
   "metadata": {},
   "outputs": [],
   "source": []
  },
  {
   "cell_type": "code",
   "execution_count": null,
   "metadata": {},
   "outputs": [],
   "source": []
  },
  {
   "cell_type": "code",
   "execution_count": 105,
   "metadata": {},
   "outputs": [],
   "source": [
    "# Standard Scalar\n",
    "from sklearn import preprocessing\n",
    "scaler = preprocessing.StandardScaler()\n",
    "X_train= scaler.fit_transform(X_train)\n",
    "X_test= pd.DataFrame(X_test)"
   ]
  },
  {
   "cell_type": "code",
   "execution_count": 79,
   "metadata": {},
   "outputs": [
    {
     "name": "stdout",
     "output_type": "stream",
     "text": [
      "The accuracy is: 0.803201181974883\n"
     ]
    }
   ],
   "source": [
    "# Logistical Regression modeling\n",
    "\n",
    "from sklearn.linear_model import LogisticRegression\n",
    "from sklearn import linear_model, model_selection, metrics\n",
    "lr = LogisticRegression()\n",
    "\n",
    "\n",
    "# Assign X as a DataFrame of features and y as a Series of the outcome variable\n",
    "X = df.loc[:,top].drop('too_much_debt', axis = 1)\n",
    "y = finance.too_much_debt\n",
    "\n",
    "# Preprocessing and Train-Test-Split\n",
    "from sklearn.model_selection import train_test_split\n",
    "X_train, X_test, y_train, y_test = train_test_split(X, y, test_size=0.25, random_state=13)\n",
    "\n",
    "\n",
    "# TRAIN model\n",
    "lr.fit(X_train, y_train)\n",
    "\n",
    "\n",
    "# Predict or test model--only predicting on X_test\n",
    "y_pred = lr.predict(X_test)\n",
    "\n",
    "# Metrics\n",
    "print('The accuracy is:', lr.score(X_test, y_test)) # score the trained model compared to the test data (X_test, y_test)"
   ]
  },
  {
   "cell_type": "code",
   "execution_count": null,
   "metadata": {},
   "outputs": [],
   "source": []
  },
  {
   "cell_type": "code",
   "execution_count": 80,
   "metadata": {},
   "outputs": [
    {
     "name": "stdout",
     "output_type": "stream",
     "text": [
      "10-fold cross validation average accuracy: 0.80280\n"
     ]
    }
   ],
   "source": [
    "#Cross Validation\n",
    "from sklearn import model_selection\n",
    "from sklearn.model_selection import cross_val_score\n",
    "kfold = model_selection.KFold(n_splits=10, random_state=7)\n",
    "modelCV = LogisticRegression()\n",
    "scoring = 'accuracy'\n",
    "results = model_selection.cross_val_score(modelCV, X_train, y_train, cv=kfold, scoring=scoring)\n",
    "print(\"10-fold cross validation average accuracy: %.5f\" % (results.mean()))\n",
    "\n",
    "#The average accuracy remains very close to the Logistic Regression model accuracy (0.8202); hence, we can conclude that our model generalizes well."
   ]
  },
  {
   "cell_type": "code",
   "execution_count": 81,
   "metadata": {},
   "outputs": [
    {
     "data": {
      "text/plain": [
       "array([[10871,  1858],\n",
       "       [ 2141,  5435]], dtype=int64)"
      ]
     },
     "execution_count": 81,
     "metadata": {},
     "output_type": "execute_result"
    }
   ],
   "source": [
    "# Confusion Matrix\n",
    "# Get probability predictions.\n",
    "logit_simple = linear_model.LogisticRegression(C=1e9).fit(X_train, y_train) # C is a regularization constant and scales them appropriately\n",
    "logit_pred_proba = logit_simple.predict_proba(X_test)[:,1]\n",
    "\n",
    "metrics.confusion_matrix(y_true=y_test, y_pred=logit_pred_proba > .5)\n",
    "\n",
    "#The result is telling us that we have 10904+5753  = 16,657 correct predictions and 1825+1823 = 3648 incorrect predictions."
   ]
  },
  {
   "cell_type": "code",
   "execution_count": 82,
   "metadata": {},
   "outputs": [
    {
     "data": {
      "image/png": "[encoded data removed]",
      "text/plain": [
       "<matplotlib.figure.Figure at 0xcced908>"
      ]
     },
     "metadata": {},
     "output_type": "display_data"
    }
   ],
   "source": [
    "from sklearn.metrics import roc_auc_score\n",
    "from sklearn.metrics import roc_curve\n",
    "logit_roc_auc = roc_auc_score(y_test, lr.predict(X_test))\n",
    "fpr, tpr, thresholds = roc_curve(y_test, lr.predict_proba(X_test)[:,1])\n",
    "plt.figure()\n",
    "plt.plot(fpr, tpr, label='Logistic Regression (area = %0.2f)' % logit_roc_auc)\n",
    "plt.plot([0, 1], [0, 1],'r--')\n",
    "plt.xlim([0.0, 1.0])\n",
    "plt.ylim([0.0, 1.05])\n",
    "plt.xlabel('False Positive Rate')\n",
    "plt.ylabel('True Positive Rate')\n",
    "plt.title('Receiver operating characteristic (ROC)')\n",
    "plt.legend(loc=\"lower right\")\n",
    "plt.savefig('Log_ROC')\n",
    "plt.show()\n",
    "\n",
    "#The receiver operating characteristic (ROC) curve is used with binary classifiers. The dotted line represents the ROC curve of a purely random classifier\n",
    "#a good classifier stays as far away from that line as possible (toward the top-left corner)."
   ]
  },
  {
   "cell_type": "code",
   "execution_count": null,
   "metadata": {},
   "outputs": [],
   "source": [
    "# from sklearn import metrics\n",
    "# import numpy as np\n",
    "# import matplotlib.pyplot as plt\n",
    "\n",
    "# plt.figure(0).clf()\n",
    "\n",
    "# pred = np.random.rand(1000)\n",
    "# label = np.random.randint(2, size=1000)\n",
    "# fpr, tpr, thresh = metrics.roc_curve(label, pred)\n",
    "# auc = metrics.roc_auc_score(label, pred)\n",
    "# plt.plot(fpr,tpr,label=\"data 1, auc=\"+str(auc))\n",
    "\n",
    "# pred = np.random.rand(1000)\n",
    "# label = np.random.randint(2, size=1000)\n",
    "# fpr, tpr, thresh = metrics.roc_curve(label, pred)\n",
    "# auc = metrics.roc_auc_score(label, pred)\n",
    "# plt.plot(fpr,tpr,label=\"data 2, auc=\"+str(auc))\n",
    "\n",
    "# plt.legend(loc=0)"
   ]
  },
  {
   "cell_type": "code",
   "execution_count": null,
   "metadata": {},
   "outputs": [],
   "source": []
  },
  {
   "cell_type": "code",
   "execution_count": null,
   "metadata": {},
   "outputs": [],
   "source": []
  },
  {
   "cell_type": "code",
   "execution_count": null,
   "metadata": {},
   "outputs": [],
   "source": []
  },
  {
   "cell_type": "code",
   "execution_count": null,
   "metadata": {},
   "outputs": [],
   "source": []
  },
  {
   "cell_type": "markdown",
   "metadata": {},
   "source": [
    "Compute precision, recall, F-measure and support\n",
    "\n",
    "The precision is the ratio tp / (tp + fp) where tp is the number of true positives and fp the number of false positives. The precision is intuitively the ability of the classifier not to label as positive a sample that is negative.\n",
    "\n",
    "The recall is the ratio tp / (tp + fn) where tp is the number of true positives and fn the number of false negatives. The recall is intuitively the ability of the classifier to find all the positive samples.\n",
    "\n",
    "The F-beta score can be interpreted as a weighted harmonic mean of the precision and recall, where an F-beta score reaches its best value at 1 and worst score at 0.\n",
    "\n",
    "The F-beta score weights recall more than precision by a factor of beta. beta == 1.0 means recall and precision are equally important.\n",
    "\n",
    "The support is the number of occurrences of each class in y_test."
   ]
  },
  {
   "cell_type": "code",
   "execution_count": 113,
   "metadata": {},
   "outputs": [
    {
     "name": "stdout",
     "output_type": "stream",
     "text": [
      "             precision    recall  f1-score   support\n",
      "\n",
      "          0       0.84      0.85      0.84     12729\n",
      "          1       0.75      0.72      0.73      7576\n",
      "\n",
      "avg / total       0.80      0.80      0.80     20305\n",
      "\n"
     ]
    }
   ],
   "source": [
    "from sklearn.metrics import classification_report\n",
    "print(classification_report(y_test, y_pred))\n",
    "\n",
    "#Interpretation: Of the entire test set, 82% of the \"too much debt\" were people who actually had too much debt. \n",
    "#Of the entire test set, 82% of the customer’s preferred term deposits that were promoted.\n",
    "# F1 score is the weighted harmonic mean of precision and recall, where F1 score reaches its best value at 1 and worst score at 0. \n",
    "# there are 20,305 occurrences in each class in y_test. "
   ]
  },
  {
   "cell_type": "code",
   "execution_count": null,
   "metadata": {},
   "outputs": [],
   "source": []
  },
  {
   "cell_type": "code",
   "execution_count": null,
   "metadata": {},
   "outputs": [],
   "source": []
  },
  {
   "cell_type": "code",
   "execution_count": null,
   "metadata": {},
   "outputs": [],
   "source": []
  },
  {
   "cell_type": "code",
   "execution_count": 114,
   "metadata": {},
   "outputs": [],
   "source": [
    "#Ridge Regression\n",
    "# Assign X as a DataFrame of features and y as a Series of the outcome variable\n",
    "\n",
    "X = df.loc[:,top].drop('too_much_debt', axis = 1)\n",
    "y = finance.too_much_debt\n",
    "\n",
    "X_train, X_test, y_train, y_test = train_test_split(X, y, random_state=2)"
   ]
  },
  {
   "cell_type": "code",
   "execution_count": 115,
   "metadata": {},
   "outputs": [
    {
     "name": "stdout",
     "output_type": "stream",
     "text": [
      "0.4133619128418722\n"
     ]
    }
   ],
   "source": [
    "# alpha=0 is equivalent to linear regression.\n",
    "from sklearn.linear_model import Ridge\n",
    "from sklearn import linear_model, model_selection, metrics\n",
    "\n",
    "# Instantiate the model.\n",
    "#(Alpha of zero has no regularization strength, essentially a basic linear regression.)\n",
    "ridgereg = Ridge(alpha=0.00001, normalize=True) # alpha=0 does not do anything, just linear regression\n",
    "\n",
    "# Fit the model.\n",
    "ridgereg.fit(X_train, y_train)\n",
    "\n",
    "# Predict with fitted model.\n",
    "print(ridgereg.score(X_train, y_train))"
   ]
  },
  {
   "cell_type": "code",
   "execution_count": 117,
   "metadata": {},
   "outputs": [
    {
     "data": {
      "text/plain": [
       "[('monthly_burden', -0.05515917174356948),\n",
       " ('pay_full_bill_credit_card', 0.08776424733351604),\n",
       " ('satisfaction_with_finance', -0.006660612101493309),\n",
       " ('unpaid_pastdue_medical_bills', -0.004036678032420445),\n",
       " ('budgeting', -0.00390838413153921),\n",
       " ('mortgage_status', -0.02215004543680177),\n",
       " ('emergency_funds', 0.02511215469185286),\n",
       " ('retirement_status', -0.049634109333154285),\n",
       " ('overdraw_account', -0.03402101944980272),\n",
       " ('emergency_money', 0.11058033941686564),\n",
       " ('withdraw_from_retirement', 0.13734610890806473),\n",
       " ('finance_education', 0.030123396612449893),\n",
       " ('good_at_math', 0.006077835818957787)]"
      ]
     },
     "execution_count": 117,
     "metadata": {},
     "output_type": "execute_result"
    }
   ],
   "source": [
    "# Coefficients for a non-regularized logistic regression\n",
    "list(zip(X, ridgereg.coef_))"
   ]
  },
  {
   "cell_type": "code",
   "execution_count": 118,
   "metadata": {},
   "outputs": [
    {
     "name": "stdout",
     "output_type": "stream",
     "text": [
      "0.41336190934626504\n"
     ]
    }
   ],
   "source": [
    "# Try a different alpha value.\n",
    "ridgereg = Ridge(alpha=0.0001, normalize=True) # the greater the alpha, the worse the model does. \n",
    "ridgereg.fit(X_train, y_train)\n",
    "y_pred = ridgereg.predict(X_test)\n",
    "\n",
    "# Predict with fitted model.\n",
    "print(ridgereg.score(X_train, y_train))"
   ]
  },
  {
   "cell_type": "code",
   "execution_count": 119,
   "metadata": {},
   "outputs": [
    {
     "data": {
      "text/plain": [
       "[('monthly_burden', -0.05515727418704465),\n",
       " ('pay_full_bill_credit_card', 0.0877532024658005),\n",
       " ('satisfaction_with_finance', -0.006661761895980863),\n",
       " ('unpaid_pastdue_medical_bills', -0.00399764137343763),\n",
       " ('budgeting', -0.003907972826798072),\n",
       " ('mortgage_status', -0.022151416597605614),\n",
       " ('emergency_funds', 0.02512213490850797),\n",
       " ('retirement_status', -0.049637314418216616),\n",
       " ('overdraw_account', -0.03401994873499863),\n",
       " ('emergency_money', 0.11056904042202034),\n",
       " ('withdraw_from_retirement', 0.137308105636736),\n",
       " ('finance_education', 0.030128280413885555),\n",
       " ('good_at_math', 0.006076434160224288)]"
      ]
     },
     "execution_count": 119,
     "metadata": {},
     "output_type": "execute_result"
    }
   ],
   "source": [
    "# Examine the coefficients. combine them together and put them into a list \n",
    "list(zip(X, ridgereg.coef_))"
   ]
  },
  {
   "cell_type": "code",
   "execution_count": 120,
   "metadata": {},
   "outputs": [
    {
     "name": "stdout",
     "output_type": "stream",
     "text": [
      "Automatically created module for IPython interactive environment\n"
     ]
    },
    {
     "data": {
      "image/png": "[encoded data removed]",
      "text/plain": [
       "<matplotlib.figure.Figure at 0xc78e630>"
      ]
     },
     "metadata": {},
     "output_type": "display_data"
    }
   ],
   "source": [
    "# Plot Ridge coefficients as a function of the regularization\n",
    "print(__doc__)\n",
    "\n",
    "import numpy as np\n",
    "import matplotlib.pyplot as plt\n",
    "from sklearn import linear_model\n",
    "\n",
    "X = df.loc[:,top].drop('too_much_debt', axis = 1).copy()\n",
    "y = finance.too_much_debt\n",
    "\n",
    "# Compute paths\n",
    "\n",
    "n_alphas = 100\n",
    "alphas = np.logspace(-10, -2, n_alphas)\n",
    "\n",
    "coefs = []\n",
    "for a in alphas:\n",
    "    ridge = linear_model.Ridge(alpha=a, fit_intercept=False)\n",
    "    ridge.fit(X, y)\n",
    "    coefs.append(ridge.coef_)\n",
    "\n",
    "# #############################################################################\n",
    "# Display results\n",
    "\n",
    "ax = plt.gca()\n",
    "\n",
    "ax.plot(alphas, coefs)\n",
    "ax.set_xscale('log')\n",
    "ax.set_xlim(ax.get_xlim()[::-1])  # reverse axis\n",
    "plt.xlabel('alpha')\n",
    "plt.ylabel('weights')\n",
    "plt.title('Ridge coefficients as a function of the regularization')\n",
    "plt.axis('tight')\n",
    "plt.show()"
   ]
  },
  {
   "cell_type": "code",
   "execution_count": null,
   "metadata": {},
   "outputs": [],
   "source": []
  },
  {
   "cell_type": "code",
   "execution_count": null,
   "metadata": {},
   "outputs": [],
   "source": []
  },
  {
   "cell_type": "code",
   "execution_count": null,
   "metadata": {},
   "outputs": [],
   "source": []
  },
  {
   "cell_type": "code",
   "execution_count": 121,
   "metadata": {},
   "outputs": [],
   "source": [
    "#Lasso Regression\n",
    "\n",
    "X = df.loc[:,top].drop('too_much_debt', axis = 1)\n",
    "y = finance.too_much_debt\n",
    "\n",
    "X_train, X_test, y_train, y_test = train_test_split(X, y, random_state=1)\n"
   ]
  },
  {
   "cell_type": "code",
   "execution_count": 122,
   "metadata": {},
   "outputs": [
    {
     "name": "stderr",
     "output_type": "stream",
     "text": [
      "C:\\Users\\578735\\AppData\\Local\\Continuum\\anaconda3\\New_folder\\lib\\site-packages\\ipykernel_launcher.py:7: UserWarning: With alpha=0, this algorithm does not converge well. You are advised to use the LinearRegression estimator\n",
      "  import sys\n",
      "C:\\Users\\578735\\AppData\\Local\\Continuum\\anaconda3\\New_folder\\lib\\site-packages\\sklearn\\linear_model\\coordinate_descent.py:477: UserWarning: Coordinate descent with no regularization may lead to unexpected results and is discouraged.\n",
      "  positive)\n"
     ]
    },
    {
     "name": "stdout",
     "output_type": "stream",
     "text": [
      "0.41534388338038963\n"
     ]
    },
    {
     "name": "stderr",
     "output_type": "stream",
     "text": [
      "C:\\Users\\578735\\AppData\\Local\\Continuum\\anaconda3\\New_folder\\lib\\site-packages\\sklearn\\linear_model\\coordinate_descent.py:491: ConvergenceWarning: Objective did not converge. You might want to increase the number of iterations. Fitting data with very small alpha may cause precision problems.\n",
      "  ConvergenceWarning)\n"
     ]
    }
   ],
   "source": [
    "from sklearn.linear_model import Lasso\n",
    "\n",
    "# Instantiate the model. Alpha of zero has no regularization strength, essentially a basic linear regression.\n",
    "Lasso= Lasso(alpha=0, normalize=True) # alpha=0 does not do anything, just linear regression\n",
    "\n",
    "# Fit the model.\n",
    "Lasso.fit(X_train, y_train)\n",
    "\n",
    "# Predict with fitted model.\n",
    "# y_pred = Lasso.predict(X_test)\n",
    "# Predict with fitted model.\n",
    "print(Lasso.score(X_train, y_train))"
   ]
  },
  {
   "cell_type": "code",
   "execution_count": 123,
   "metadata": {},
   "outputs": [
    {
     "data": {
      "text/plain": [
       "[('monthly_burden', -0.05495185802456357),\n",
       " ('pay_full_bill_credit_card', 0.08741450393203197),\n",
       " ('satisfaction_with_finance', -0.007415993309035262),\n",
       " ('unpaid_pastdue_medical_bills', 0.000754937435944879),\n",
       " ('budgeting', -0.006325349923601231),\n",
       " ('mortgage_status', -0.0217845092119684),\n",
       " ('emergency_funds', 0.02572460185036405),\n",
       " ('retirement_status', -0.04872147549140522),\n",
       " ('overdraw_account', -0.03295660365150387),\n",
       " ('emergency_money', 0.10985723878566737),\n",
       " ('withdraw_from_retirement', 0.13664879730568458),\n",
       " ('finance_education', 0.029067633397435885),\n",
       " ('good_at_math', 0.008260587279874313)]"
      ]
     },
     "execution_count": 123,
     "metadata": {},
     "output_type": "execute_result"
    }
   ],
   "source": [
    "# Coefficients for a non-regularized logistic regression\n",
    "list(zip(X, Lasso.coef_))"
   ]
  },
  {
   "cell_type": "code",
   "execution_count": null,
   "metadata": {},
   "outputs": [],
   "source": []
  }
 ],
 "metadata": {
  "kernelspec": {
   "display_name": "Python 3",
   "language": "python",
   "name": "python3"
  },
  "language_info": {
   "codemirror_mode": {
    "name": "ipython",
    "version": 3
   },
   "file_extension": ".py",
   "mimetype": "text/x-python",
   "name": "python",
   "nbconvert_exporter": "python",
   "pygments_lexer": "ipython3",
   "version": "3.6.4"
  }
 },
 "nbformat": 4,
 "nbformat_minor": 2
}
